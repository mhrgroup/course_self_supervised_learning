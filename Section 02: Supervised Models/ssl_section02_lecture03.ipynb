{
  "nbformat": 4,
  "nbformat_minor": 0,
  "metadata": {
    "colab": {
      "name": "ssl_section02_lecture03.ipynb",
      "provenance": [],
      "machine_shape": "hm",
      "include_colab_link": true
    },
    "kernelspec": {
      "name": "python3",
      "display_name": "Python 3"
    },
    "language_info": {
      "name": "python"
    },
    "accelerator": "GPU"
  },
  "cells": [
    {
      "cell_type": "markdown",
      "metadata": {
        "id": "view-in-github",
        "colab_type": "text"
      },
      "source": [
        "<a href=\"https://colab.research.google.com/github/mhrgroup/course_self_supervised_learning/blob/main/Section%2002%3A%20Supervised%20Models/ssl_section02_lecture03.ipynb\" target=\"_parent\"><img src=\"https://colab.research.google.com/assets/colab-badge.svg\" alt=\"Open In Colab\"/></a>"
      ]
    },
    {
      "cell_type": "markdown",
      "source": [
        "# **Lecture 03: Supervised Learning**\n",
        "\n",
        "By the end of this lecture, you will be able to:\n",
        "\n",
        "1. Describe supervised learning in general.\n",
        "2. Implement supervised learning with randomly generated parameters."
      ],
      "metadata": {
        "id": "Wt9jAeTSiWju"
      }
    },
    {
      "cell_type": "markdown",
      "source": [
        "# **3.1. Supervised Learning in General**\n",
        "---\n",
        "\n",
        "* Supervised learning is about learning from labeled data or data from outputs.\n",
        "* A machine learning model is a classifier designed to learn from input and categorical output data (classification problem).\n",
        "* When outputs are real-values, it is called a regressor (regression problem).\n",
        "* Machine learning models solely learn from input data are often called unsupervised machine learning models.\n",
        "* In this course, the machine learning models are all multi-layer deep neural network classifiers with layers including but not limited to convolutions, pooling, recurrent, and dense layers. They are since referred to as “models.”"
      ],
      "metadata": {
        "id": "2ooUMt632aQw"
      }
    },
    {
      "cell_type": "markdown",
      "source": [
        "# **3.2. Supervised Learning with Randomly Generated Parameters**\n",
        "---\n",
        "* One can develop a supervised model with randomly initiated parameters.\n",
        "* Next, using a learning technique, such as Adam or Stochastic Gradient Descent (SGD), the parameters are learned such the model accurately maps the outputs.\n",
        "* We will see an example of a supervised classification model in this lecture section using the CIFAR-10 dataset.\n",
        "* CIFAR-10 dataset contains 60,000 32x32 color images in ten classes: airplanes, cars, birds, cats, deer, dogs, frogs, horses, ships, and trucks (6,000 images of each class).\n",
        "* CIFAR-10 is divided into 50,000 training and 10,000 testing data points (i.e., images). For more, navigate to https://en.wikipedia.org/wiki/CIFAR-10.\n",
        "\n",
        "> <img src=\t\"\thttps://raw.githubusercontent.com/mhrgroup/course_self_supervised_learning/main/images/cifar10.png\t\"\twidth=\"650\"/>"
      ],
      "metadata": {
        "id": "fRfs9D4L4pe1"
      }
    },
    {
      "cell_type": "markdown",
      "source": [
        "> **Abbreviations:**\n",
        "*\tdatain: input data\n",
        "*\tdataou: output data\n",
        "*\tte: testing\n",
        "*\ttf: tensorflow\n",
        "*\ttr: training"
      ],
      "metadata": {
        "id": "SGwg5EY_3w3G"
      }
    },
    {
      "cell_type": "code",
      "source": [
        "#@title Install necessary libraries & restart the session\n",
        "\n",
        "# Install the required libraries using the `pip` package manager.\n",
        "!pip install tensorflow==2.15\n",
        "\n",
        "# Import the time module to add a delay before restarting the session.\n",
        "import time\n",
        "\n",
        "# Import `clear_output` from IPython to clear the notebook output, ensuring a clean display for the user.\n",
        "from IPython.display import clear_output\n",
        "\n",
        "# Clear the output after the packages are installed to make the notebook cleaner.\n",
        "clear_output()\n",
        "\n",
        "# Print a message to let the user know that the libraries are installed & the session will restart.\n",
        "print(\"Necessary Libraries are Installed. Restarting the session!\")\n",
        "\n",
        "# Add a short delay (1 second) before restarting to allow the message to be displayed to the user.\n",
        "time.sleep(1)\n",
        "\n",
        "# Import the `os` module to access low-level operating system functionality.\n",
        "import os\n",
        "\n",
        "# Use `os._exit(00)` to exit the current Python runtime environment forcefully.\n",
        "# This effectively simulates a restart in notebook environments like Google Colab or Jupyter.\n",
        "# After this command, the environment will be restarted & all the packages installed will be properly loaded.\n",
        "os._exit(00)"
      ],
      "metadata": {
        "cellView": "form",
        "id": "22AHiBH0Z5zH"
      },
      "execution_count": null,
      "outputs": []
    },
    {
      "cell_type": "code",
      "source": [
        "#@title Import necessary libraries\n",
        "import time\n",
        "import tensorflow as tf"
      ],
      "metadata": {
        "cellView": "form",
        "id": "Pi1aPv0z4M6V"
      },
      "execution_count": null,
      "outputs": []
    },
    {
      "cell_type": "code",
      "source": [
        "#@title Load and process the CIFAR-10 data\n",
        "(datain_tr, dataou_tr), (datain_te, dataou_te) = tf.keras.datasets.cifar10.load_data()\n",
        "\n",
        "'''\n",
        "List of available datasets at tf.keras.datasets:\n",
        "https://www.tensorflow.org/api_docs/python/tf/keras/datasets.\n",
        "'''\n",
        "\n",
        "datain_tr = datain_tr/255 # trasnform unit-8 values between 0 and 1\n",
        "datain_te = datain_te/255 # trasnform unit-8 values between 0 and 1\n",
        "\n",
        "dataou_tr = tf.keras.utils.to_categorical(dataou_tr) # e.g. class 3 out of 4 becomes [0,0,1,0]\n",
        "dataou_te = tf.keras.utils.to_categorical(dataou_te)\n",
        "\n",
        "# print shapes of data\n",
        "print('Shape of datain_tr: {}'.format(datain_tr.shape))\n",
        "print('Shape of datain_te: {}'.format(datain_te.shape))\n",
        "print('Shape of dataou_tr: {}'.format(dataou_tr.shape))\n",
        "print('Shape of dataou_te: {}'.format(dataou_te.shape))\n"
      ],
      "metadata": {
        "id": "ElO3hBIj5WN1",
        "cellView": "form"
      },
      "execution_count": null,
      "outputs": []
    },
    {
      "cell_type": "code",
      "source": [
        "#@title Create a model similar to DenseNet121\n",
        "'''\n",
        "DenseNet121 is a deep neural network tower including convolutional, pooling,\n",
        "and dense layers. You can learn about it at https://arxiv.org/abs/1608.06993.\n",
        "'''\n",
        "\n",
        "layerin = tf.keras.Input(shape=(datain_tr.shape[1],\n",
        "                                datain_tr.shape[2],\n",
        "                                datain_tr.shape[3]))\n",
        "\n",
        "'''\n",
        "The DenseNet121 input size is set to 160 by 160 by 3, and our images are\n",
        "32 by 32 by 3. The upscale is to resize our 32 by 32 images to become 160 by 160\n",
        "for compatibility.\n",
        "\n",
        "Read about tf.keras.layers.Lambda here:\n",
        "https://www.tensorflow.org/api_docs/python/tf/keras/layers/Lambda.\n",
        "'''\n",
        "\n",
        "upscale = tf.keras.layers.Lambda(lambda x: tf.image.resize_with_pad(x,\n",
        "                                                                    160,\n",
        "                                                                    160,\n",
        "                                                                    method = tf.image.ResizeMethod.BILINEAR))(layerin)\n",
        "'''\n",
        "Read more about image ResizeMethod at\n",
        "https://www.tensorflow.org/api_docs/python/tf/image/resize.\n",
        "'''\n",
        "\n",
        "\n",
        "\n",
        "model_DenseNet121 = tf.keras.applications.DenseNet121(include_top  = False,\n",
        "                                                      weights      = None,\n",
        "                                                      input_shape  = (160,160,3),\n",
        "                                                      input_tensor = upscale,\n",
        "                                                      pooling      = 'max')\n",
        "\n",
        "'''\n",
        "read more at\n",
        "https://www.tensorflow.org/api_docs/python/tf/keras/applications/densenet/DenseNet121.\n",
        "'''\n",
        "\n",
        "layerou = tf.keras.layers.Dense(dataou_tr.shape[-1], activation = 'softmax')\n",
        "\n",
        "'''\n",
        "Create the model!\n",
        "We add \"BatchNormalization\" to reduce overfitting.\n",
        "A useful article to learn more about BacthNormalization:\n",
        "https://towardsdatascience.com/batch-norm-explained-visually-how-it-works-and-why-neural-networks-need-it-b18919692739.\n",
        "'''\n",
        "\n",
        "model   = tf.keras.models.Sequential([model_DenseNet121,\n",
        "                                      tf.keras.layers.BatchNormalization(),\n",
        "                                      layerou])\n",
        "\n",
        "\n",
        "model.compile(optimizer = tf.keras.optimizers.Adam(0.001),\n",
        "              loss      = 'categorical_crossentropy',\n",
        "              metrics   = ['accuracy'])\n",
        "\n",
        "'''\n",
        "Print model architectures.\n",
        "'''\n",
        "print('summary of model_DenseNet121:\\n')\n",
        "model_DenseNet121.summary()\n",
        "\n",
        "print('summary of model:\\n')\n",
        "model.summary()"
      ],
      "metadata": {
        "id": "LwUa5arM7laX",
        "cellView": "form"
      },
      "execution_count": null,
      "outputs": []
    },
    {
      "cell_type": "code",
      "source": [
        "#@title Train the model for five epochs\n",
        "t_start = time.time()\n",
        "\n",
        "history = model.fit(datain_tr,\n",
        "                    dataou_tr,\n",
        "                    epochs           = 5,\n",
        "                    batch_size       = 128,\n",
        "                    verbose          = 1,\n",
        "                    shuffle          = True,\n",
        "                    validation_split = 0.05)\n",
        "\n",
        "t_end   = time.time()\n",
        "\n"
      ],
      "metadata": {
        "id": "cs1E9rVQJf0A",
        "cellView": "form",
        "outputId": "2a9fe874-43a9-4b4c-c313-9a28f9645acc",
        "colab": {
          "base_uri": "https://localhost:8080/"
        }
      },
      "execution_count": null,
      "outputs": [
        {
          "output_type": "stream",
          "name": "stdout",
          "text": [
            "Epoch 1/5\n",
            "372/372 [==============================] - 354s 730ms/step - loss: 1.4469 - accuracy: 0.4928 - val_loss: 1.9681 - val_accuracy: 0.3284\n",
            "Epoch 2/5\n",
            "372/372 [==============================] - 262s 705ms/step - loss: 1.0115 - accuracy: 0.6563 - val_loss: 1.9623 - val_accuracy: 0.3908\n",
            "Epoch 3/5\n",
            " 46/372 [==>...........................] - ETA: 3:47 - loss: 0.8978 - accuracy: 0.6856"
          ]
        }
      ]
    },
    {
      "cell_type": "code",
      "source": [
        "#@title Compute testing accuracy\n",
        "_, accuracy_te = model.evaluate(datain_te,\n",
        "                                dataou_te,\n",
        "                                batch_size = 128)\n",
        "\n",
        "print('\\nTraining time: {:06.2f} sec'.format(t_end - t_start))\n",
        "print('\\nTesting acuuracy: {:05.2f}%'.format(accuracy_te * 100))"
      ],
      "metadata": {
        "id": "Z7P-IZ43LNVw",
        "cellView": "form"
      },
      "execution_count": null,
      "outputs": []
    },
    {
      "cell_type": "code",
      "source": [
        "#@title Clean up memory\n",
        "%reset"
      ],
      "metadata": {
        "cellView": "form",
        "id": "mW2CJLKnWPFX"
      },
      "execution_count": null,
      "outputs": []
    },
    {
      "cell_type": "markdown",
      "source": [
        "# **Lecture 03: Supervised Learning**\n",
        "\n",
        "In this lecture, you learned about:\n",
        "\n",
        "1. Supervised learning in general.\n",
        "2. Supervised learning with randomly generated parameters.\n",
        "\n",
        "> ***In the following lecture, we will talk about \"Transfer Learning & Fine-Tuning.\"***"
      ],
      "metadata": {
        "id": "OWML14xDnq7v"
      }
    }
  ]
}