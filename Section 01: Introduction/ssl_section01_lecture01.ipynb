{
  "nbformat": 4,
  "nbformat_minor": 0,
  "metadata": {
    "colab": {
      "name": "ssl_section01_lecture01.ipynb",
      "provenance": [],
      "collapsed_sections": [],
      "include_colab_link": true
    },
    "kernelspec": {
      "name": "python3",
      "display_name": "Python 3"
    }
  },
  "cells": [
    {
      "cell_type": "markdown",
      "metadata": {
        "id": "view-in-github",
        "colab_type": "text"
      },
      "source": [
        "<a href=\"https://colab.research.google.com/github/mhrgroup/course_self_supervised_learning/blob/main/Section%2001%3A%20Introduction/ssl_section01_lecture01.ipynb\" target=\"_parent\"><img src=\"https://colab.research.google.com/assets/colab-badge.svg\" alt=\"Open In Colab\"/></a>"
      ]
    },
    {
      "cell_type": "markdown",
      "metadata": {
        "id": "vQ4rnZ8-lPeB"
      },
      "source": [
        "# **Lecture 01: An Introduction to the Course**\n",
        "$\\color{red}{\\text{DO NOT SKIP THIS LECTURE}}$\n",
        "\n",
        "By the end of this lecture, you will be able to:\n",
        "\n",
        "1. Get to know your instructor.\n",
        "2. Double check **some \"musts\"** before starting.\n",
        "3. Describe the course subject and materials.\n",
        "4. See an overview of the course.\n",
        "\n",
        "> ***This is a mid-level to high-level machine learning course with a focus on Self-Supervised Learning.***\n",
        "\n"
      ]
    },
    {
      "cell_type": "markdown",
      "metadata": {
        "id": "p_WHJibC0dCz"
      },
      "source": [
        "#**1.1. Course Instructor**\n",
        "---\n",
        "\n",
        "* My name is Mohammad H. Rafiei, Ph.D. I am honored and humbled to serve as your instructor.\n",
        "* I am a machine learning engineer, researcher, and instructor at Johns Hopkins University, College of Engineering, and Georgia State University, Department of Computer Science. I am also the founder of MHR Group LLC in Georgia. \n",
        "\n",
        "* You can find more information about me at \n",
        " * https://ep.jhu.edu/faculty/mohammad-rafiei/.\n",
        " * https://scholar.google.com/citations?user=74pUQ3sAAAAJ&hl=en.\n",
        "\n",
        "\n",
        "\n",
        "\n"
      ]
    },
    {
      "cell_type": "markdown",
      "metadata": {
        "id": "lotFBMWElRgq"
      },
      "source": [
        "# **1.2. Some \"Musts\" Before Starting**\n",
        "---\n",
        "\n",
        "* You must be familiar with deep learning architectures, including stacks of convolutional, recurrent, dense, pooling, average, and normalization layers using the TensorFlow library in Python 3+.\n",
        "\n",
        "* You must know how to develop, train, and test multi-layer deep learning models using the TensorFlow library in Python 3+. \n",
        "\n",
        "* You must know that this is a \"100% Money Back Guarantee\" course under Udemy rules.\n",
        "\n",
        "> ***If you are new to Python and/or machine learning, I recommend you to take my introductory-level course at www.python3h.com before moving forward in this course.***\n",
        "\n",
        "\n",
        "\n",
        "\n",
        "\n",
        "\n",
        "\n",
        "\n"
      ]
    },
    {
      "cell_type": "markdown",
      "metadata": {
        "id": "0ishe1Pt6L13"
      },
      "source": [
        "# **1.3. Subject & Materials**\n",
        "\n",
        "---\n",
        "* This course teaches you \"Self-Supervised Learning\" (SSL), also known as \"Representation Learning.\" \n",
        "\n",
        "* SSL is a relatively new and hot subject in machine learning to deal with repositories with limited labeled data. \n",
        "\n",
        "* There are two general SSL techniques, contrastive and generative. This course's focus is on supervised and unsupervised contrastive models only. \n",
        "\n",
        "* There are several examples and experiments across this course for you to fully grasp the idea behind SSL. \n",
        "\n",
        "* Our domain of focus is the image domain, but you can apply what you learn to other domains, including temporal records and natural language processing (NLP).\n",
        "\n",
        "* In every lecture, you can access the corresponding Python .ipynb notebooks. The notebooks are best to be run with a GPU accelerator. Watch the following lecture for more details.\n",
        "\n",
        "* If the videos are too fast or too slow, you can always change their speed. You can also turn on the video caption. \n",
        "\n",
        "* It is best to watch the videos of this course using 1080p quality with the caption on.\n",
        "\n",
        "* The lectures are created to work best on Google Colab with GPU accelerators. \n",
        "\n",
        "* The TensorFlow version used in these lectures is '2.8.2.' You may use %tensorflow_version 2.x at the very first cell of your Python notebook.\n",
        "\n",
        "\n",
        "\n",
        "\n",
        "\n",
        "> ***Machine learning libraries in Python, including TensorFlow, are evolving. As such, you must keep yourself updated with changes and modify your codes.***\n",
        "\n",
        "\n"
      ]
    },
    {
      "cell_type": "markdown",
      "metadata": {
        "id": "5L_rmE6QC_Em"
      },
      "source": [
        "# **1.4. Course Overview**\n",
        "\n",
        "---\n",
        "\n",
        "Four Sections and **ten Lectures**:\n",
        "\n",
        "* Section 01: Introduction.\n",
        "\n",
        " * **Lecture 01: An Introduction to the Course.**\n",
        " * **Lecture 02: Python Notebooks.**\n",
        "\n",
        "* Section 02: Supervised Models.\n",
        "\n",
        " * **Lecture 03: Supervised Learning.**\n",
        " * **Lecture 04: Transfer Learning & Fine-Tuning.**\n",
        "\n",
        "* Section 03: Labeling Task.\n",
        "\n",
        " * **Lecture 05: Labeling Challenges.**\n",
        "\n",
        "* Section 04: Self-Supervised Learning.\n",
        " \n",
        " * **Lecture 06: Self-Supervised Learning.**\n",
        " * **Lecture 07: Supervised Contrastive Pretext, Experiment 1.**\n",
        " * **Lecture 08: Supervised Contrastive Pretext, Experiment 2.**\n",
        " * **Lecture 09: SimCLR, An Unsupervised Contrastive Pretext Model.**\n",
        " * **Lecture 10: SimCLR Experiment.**"
      ]
    },
    {
      "cell_type": "markdown",
      "metadata": {
        "id": "GJZn1i-92IRe"
      },
      "source": [
        "# **1.5. Your Contribution**\n",
        "\n",
        "---\n",
        "\n",
        "Please rate this course and write a review about it. If you find this course interesting, please refer it to your friends and colleagues."
      ]
    },
    {
      "cell_type": "markdown",
      "metadata": {
        "id": "RsOHdrzZ5dIr"
      },
      "source": [
        "#**1.6. Acknowledgment**\n",
        "---\n",
        "\n",
        "I want to thank my wife, Fatemeh, for all her support in developing this course. "
      ]
    },
    {
      "cell_type": "markdown",
      "metadata": {
        "id": "OJE4qii0qrXH"
      },
      "source": [
        "# **Lecture 01: An Introduction to the Course**\n",
        "\n",
        "In this lecture, you learned about:\n",
        "\n",
        "1. Your instructor.\n",
        "2. Some \"musts\" before starting.\n",
        "3. Course subject and materials.\n",
        "4. An overview of the course.\n",
        "\n",
        "> ***In the following lecture, we will talk about how to access and run the Python notebooks.***"
      ]
    }
  ]
}