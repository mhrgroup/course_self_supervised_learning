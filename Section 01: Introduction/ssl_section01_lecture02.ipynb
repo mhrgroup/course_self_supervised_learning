{
  "nbformat": 4,
  "nbformat_minor": 0,
  "metadata": {
    "colab": {
      "name": "ssl_section01_lecture02.ipynb",
      "provenance": [],
      "collapsed_sections": [],
      "include_colab_link": true
    },
    "kernelspec": {
      "name": "python3",
      "display_name": "Python 3"
    }
  },
  "cells": [
    {
      "cell_type": "markdown",
      "metadata": {
        "id": "view-in-github",
        "colab_type": "text"
      },
      "source": [
        "<a href=\"https://colab.research.google.com/github/mhrgroup/course_self_supervised_learning/blob/main/Section%2001%3A%20Introduction/ssl_section01_lecture02.ipynb\" target=\"_parent\"><img src=\"https://colab.research.google.com/assets/colab-badge.svg\" alt=\"Open In Colab\"/></a>"
      ]
    },
    {
      "cell_type": "markdown",
      "metadata": {
        "id": "vQ4rnZ8-lPeB"
      },
      "source": [
        "# **Lecture 02: Python Notebooks**\n",
        "$\\color{red}{\\text{DO NOT SKIP THIS LECTURE}}$\n",
        "\n",
        "By the end of this lecture, you will be able to:\n",
        "\n",
        "1. Locate and download the \".ipynb\" notebooks of each lecture.\n",
        "2. Run your notebook on the free version of Google Colab with a GPU accelerator.\n",
        "\n",
        "> ***This is a mid-level to high-level machine learning course with a focus on Self-Supervised Learning.***\n"
      ]
    },
    {
      "cell_type": "markdown",
      "metadata": {
        "id": "p_WHJibC0dCz"
      },
      "source": [
        "#**2.1. Access to Python \".ipynb\" Notebooks**\n",
        "---\n",
        "\n",
        "\n",
        "* **Easy way:** \n",
        " * Navigate to https://github.com/mhrgroup/course_self_supervised_learning\n",
        " * Open the Python notebook of interest in Google Colab\n",
        "\n",
        "* **Not easy way!:** \n",
        "  * Click on the Resources icon next to a lecture title under the \"course content\" in the Udemy learning environment for this course: \n",
        "  \n",
        "   <img src=\t\"\thttps://raw.githubusercontent.com/mhrgroup/course_self_supervised_learning/main/images/resources.png\t\"\twidth=\"100\"/>\n",
        "\n",
        "  * Download the '.ipynb' Python notebook\n",
        "  * Navigate to https://colab.research.google.com,\n",
        "  * Sign in to your google account if you have not already signed in, \n",
        "  * Click on \"Upload,\" and drag or click on \"Choose File\" to upload the downloaded \".ipynb\" file to Google Colab.\n",
        "\n",
        "\n",
        "> ***We will now see how to do these quickly.*** \n",
        "\n",
        "\n",
        "\n",
        "\n",
        "\n",
        "\n"
      ]
    },
    {
      "cell_type": "markdown",
      "metadata": {
        "id": "lotFBMWElRgq"
      },
      "source": [
        "# **2.2. GPU Acceleration & Running Tips**\n",
        "---\n",
        "\n",
        "\n",
        "\n",
        "* Changing the \"Run Time.\"\n",
        "\n",
        "* Navigating through different cells.\n",
        "\n",
        "> ***We will now see how to do these quickly.***\n",
        "\n",
        "\n",
        "\n",
        "\n",
        "\n",
        "\n"
      ]
    },
    {
      "cell_type": "markdown",
      "metadata": {
        "id": "RsOHdrzZ5dIr"
      },
      "source": [
        "# **2.3. Anaconda & Jupiter Notebook**\n",
        "\n",
        "---\n",
        "\n",
        "* With usually minor modifications, you can also use Jupiter notebook and anaconda to run your Python notebooks, but you will need GPU acceleration for efficient training. "
      ]
    },
    {
      "cell_type": "markdown",
      "metadata": {
        "id": "OJE4qii0qrXH"
      },
      "source": [
        "# **Lecture 02: Python Notebooks**\n",
        "\n",
        "In this lecture, you learned about:\n",
        "\n",
        "1. How to find each lecture's Python \".ipynb\" notebooks.\n",
        "2. How to run your notebook on Google Colab with GPU accelerator.\n",
        "\n",
        "> ***In the following lecture, we will have a review of \"Supervised Learning.\"***"
      ]
    }
  ]
}